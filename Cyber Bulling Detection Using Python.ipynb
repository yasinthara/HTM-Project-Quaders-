{
 "cells": [
  {
   "cell_type": "code",
   "execution_count": 48,
   "id": "4609f336",
   "metadata": {},
   "outputs": [],
   "source": [
    "import pandas as pd\n",
    "import numpy as np\n",
    "import matplotlib.pyplot as plt\n",
    "import seaborn as sns\n",
    "plt.style.use(\"ggplot\")\n",
    "\n",
    "import re\n",
    "import nltk\n",
    "\n",
    "from sklearn.feature_extraction.text import TfidfVectorizer, TfidfTransformer, CountVectorizer\n",
    "from nltk import sent_tokenize, word_tokenize\n",
    "from sklearn.metrics import f1_score, accuracy_score, precision_score, recall_score, make_scorer\n",
    "\n",
    "from time import time\n",
    "import pickle"
   ]
  },
  {
   "cell_type": "code",
   "execution_count": 49,
   "id": "08f24293",
   "metadata": {},
   "outputs": [],
   "source": [
    "df = pd.read_csv(\"final_dataset_hinglish.csv\")"
   ]
  },
  {
   "cell_type": "code",
   "execution_count": 50,
   "id": "cb8081f9",
   "metadata": {},
   "outputs": [
    {
     "data": {
      "text/html": [
       "<div>\n",
       "<style scoped>\n",
       "    .dataframe tbody tr th:only-of-type {\n",
       "        vertical-align: middle;\n",
       "    }\n",
       "\n",
       "    .dataframe tbody tr th {\n",
       "        vertical-align: top;\n",
       "    }\n",
       "\n",
       "    .dataframe thead th {\n",
       "        text-align: right;\n",
       "    }\n",
       "</style>\n",
       "<table border=\"1\" class=\"dataframe\">\n",
       "  <thead>\n",
       "    <tr style=\"text-align: right;\">\n",
       "      <th></th>\n",
       "      <th>headline</th>\n",
       "      <th>label</th>\n",
       "    </tr>\n",
       "  </thead>\n",
       "  <tbody>\n",
       "    <tr>\n",
       "      <th>0</th>\n",
       "      <td>cock  suck before you piss around on my work</td>\n",
       "      <td>-1</td>\n",
       "    </tr>\n",
       "    <tr>\n",
       "      <th>1</th>\n",
       "      <td>you are  gay or antisemmitian archangel white ...</td>\n",
       "      <td>-1</td>\n",
       "    </tr>\n",
       "    <tr>\n",
       "      <th>2</th>\n",
       "      <td>fuck your filthy mother in the ass  dry</td>\n",
       "      <td>-1</td>\n",
       "    </tr>\n",
       "    <tr>\n",
       "      <th>3</th>\n",
       "      <td>get fuck  ed up  get fuck  ed up got a drink t...</td>\n",
       "      <td>-1</td>\n",
       "    </tr>\n",
       "    <tr>\n",
       "      <th>4</th>\n",
       "      <td>stupid peace of  shit  stop deleting my stuff ...</td>\n",
       "      <td>-1</td>\n",
       "    </tr>\n",
       "  </tbody>\n",
       "</table>\n",
       "</div>"
      ],
      "text/plain": [
       "                                            headline  label\n",
       "0       cock  suck before you piss around on my work     -1\n",
       "1  you are  gay or antisemmitian archangel white ...     -1\n",
       "2            fuck your filthy mother in the ass  dry     -1\n",
       "3  get fuck  ed up  get fuck  ed up got a drink t...     -1\n",
       "4  stupid peace of  shit  stop deleting my stuff ...     -1"
      ]
     },
     "execution_count": 50,
     "metadata": {},
     "output_type": "execute_result"
    }
   ],
   "source": [
    "df.head()"
   ]
  },
  {
   "cell_type": "code",
   "execution_count": 51,
   "id": "ea111c8f",
   "metadata": {},
   "outputs": [
    {
     "data": {
      "text/plain": [
       "array([-1,  0])"
      ]
     },
     "execution_count": 51,
     "metadata": {},
     "output_type": "execute_result"
    }
   ],
   "source": [
    "df['label'].unique()"
   ]
  },
  {
   "cell_type": "markdown",
   "id": "2b2e0551",
   "metadata": {},
   "source": [
    "Dataframe manipulation"
   ]
  },
  {
   "cell_type": "code",
   "execution_count": 52,
   "id": "a408689b",
   "metadata": {},
   "outputs": [],
   "source": [
    "def perform_data_manipulation():\n",
    "    df = pd.read_csv(\"final_dataset_hinglish.csv\")\n",
    "    \n",
    "    for index in df.index:\n",
    "        if df.loc[index, \"label\"]==-1:\n",
    "            df.loc[index, \"label\"] = 1\n",
    "    return df"
   ]
  },
  {
   "cell_type": "code",
   "execution_count": 53,
   "id": "000a476d",
   "metadata": {},
   "outputs": [],
   "source": [
    "df = perform_data_manipulation()"
   ]
  },
  {
   "cell_type": "code",
   "execution_count": 54,
   "id": "67925c0f",
   "metadata": {},
   "outputs": [
    {
     "data": {
      "text/html": [
       "<div>\n",
       "<style scoped>\n",
       "    .dataframe tbody tr th:only-of-type {\n",
       "        vertical-align: middle;\n",
       "    }\n",
       "\n",
       "    .dataframe tbody tr th {\n",
       "        vertical-align: top;\n",
       "    }\n",
       "\n",
       "    .dataframe thead th {\n",
       "        text-align: right;\n",
       "    }\n",
       "</style>\n",
       "<table border=\"1\" class=\"dataframe\">\n",
       "  <thead>\n",
       "    <tr style=\"text-align: right;\">\n",
       "      <th></th>\n",
       "      <th>headline</th>\n",
       "      <th>label</th>\n",
       "    </tr>\n",
       "  </thead>\n",
       "  <tbody>\n",
       "    <tr>\n",
       "      <th>0</th>\n",
       "      <td>cock  suck before you piss around on my work</td>\n",
       "      <td>1</td>\n",
       "    </tr>\n",
       "    <tr>\n",
       "      <th>1</th>\n",
       "      <td>you are  gay or antisemmitian archangel white ...</td>\n",
       "      <td>1</td>\n",
       "    </tr>\n",
       "    <tr>\n",
       "      <th>2</th>\n",
       "      <td>fuck your filthy mother in the ass  dry</td>\n",
       "      <td>1</td>\n",
       "    </tr>\n",
       "    <tr>\n",
       "      <th>3</th>\n",
       "      <td>get fuck  ed up  get fuck  ed up got a drink t...</td>\n",
       "      <td>1</td>\n",
       "    </tr>\n",
       "    <tr>\n",
       "      <th>4</th>\n",
       "      <td>stupid peace of  shit  stop deleting my stuff ...</td>\n",
       "      <td>1</td>\n",
       "    </tr>\n",
       "  </tbody>\n",
       "</table>\n",
       "</div>"
      ],
      "text/plain": [
       "                                            headline  label\n",
       "0       cock  suck before you piss around on my work      1\n",
       "1  you are  gay or antisemmitian archangel white ...      1\n",
       "2            fuck your filthy mother in the ass  dry      1\n",
       "3  get fuck  ed up  get fuck  ed up got a drink t...      1\n",
       "4  stupid peace of  shit  stop deleting my stuff ...      1"
      ]
     },
     "execution_count": 54,
     "metadata": {},
     "output_type": "execute_result"
    }
   ],
   "source": [
    "df.head()"
   ]
  },
  {
   "cell_type": "code",
   "execution_count": 55,
   "id": "2c9d6fd1",
   "metadata": {},
   "outputs": [
    {
     "data": {
      "text/plain": [
       "array([1, 0])"
      ]
     },
     "execution_count": 55,
     "metadata": {},
     "output_type": "execute_result"
    }
   ],
   "source": [
    "df['label'].unique()"
   ]
  },
  {
   "cell_type": "code",
   "execution_count": 56,
   "id": "8f7f838f",
   "metadata": {},
   "outputs": [
    {
     "data": {
      "text/plain": [
       "67855"
      ]
     },
     "execution_count": 56,
     "metadata": {},
     "output_type": "execute_result"
    }
   ],
   "source": [
    "df.shape[0]"
   ]
  },
  {
   "cell_type": "markdown",
   "id": "c047534f",
   "metadata": {},
   "source": [
    "Classification using Pie Chart"
   ]
  },
  {
   "cell_type": "code",
   "execution_count": 57,
   "id": "01855e47",
   "metadata": {},
   "outputs": [],
   "source": [
    "def performdatadistribution(df):\n",
    "    total = df.shape[0]\n",
    "    num_non_toxic = df[df['label']==0].shape[0]\n",
    "    \n",
    "    slices = [num_non_toxic/total, (total-num_non_toxic)/total]\n",
    "    \n",
    "    labeling = ['Non-Toxic', 'Toxic']\n",
    "    \n",
    "    explode = [0.2, 0]\n",
    "    \n",
    "    plt.pie(slices, explode = explode, shadow=True, autopct=\"%1.1f%%\", labels = labeling, wedgeprops={'edgecolor': 'black'})\n",
    "    \n",
    "    plt.title('Number of Toxic Vs Non- Toxic Test Sample')\n",
    "    \n",
    "    plt.tight_layout()\n",
    "    \n",
    "    plt.show()"
   ]
  },
  {
   "cell_type": "code",
   "execution_count": 58,
   "id": "7cb189a0",
   "metadata": {},
   "outputs": [
    {
     "data": {
      "image/png": "[encoded data removed]",
      "text/plain": [
       "<Figure size 640x480 with 1 Axes>"
      ]
     },
     "metadata": {},
     "output_type": "display_data"
    }
   ],
   "source": [
    "performdatadistribution(df)"
   ]
  },
  {
   "cell_type": "code",
   "execution_count": 59,
   "id": "0fd2d056",
   "metadata": {},
   "outputs": [],
   "source": [
    "def remove_pattern(input_txt, pattern):\n",
    "    if (type(input_txt)==str):\n",
    "        r = re.findall(pattern, input_txt)\n",
    "        for i in r:\n",
    "            input_txt = re.sub(i, '', input_txt)\n",
    "        return input_txt\n",
    "    else:\n",
    "        return \"\""
   ]
  },
  {
   "cell_type": "code",
   "execution_count": 60,
   "id": "fc04ee7f",
   "metadata": {},
   "outputs": [
    {
     "data": {
      "text/html": [
       "<div>\n",
       "<style scoped>\n",
       "    .dataframe tbody tr th:only-of-type {\n",
       "        vertical-align: middle;\n",
       "    }\n",
       "\n",
       "    .dataframe tbody tr th {\n",
       "        vertical-align: top;\n",
       "    }\n",
       "\n",
       "    .dataframe thead th {\n",
       "        text-align: right;\n",
       "    }\n",
       "</style>\n",
       "<table border=\"1\" class=\"dataframe\">\n",
       "  <thead>\n",
       "    <tr style=\"text-align: right;\">\n",
       "      <th></th>\n",
       "      <th>headline</th>\n",
       "      <th>label</th>\n",
       "    </tr>\n",
       "  </thead>\n",
       "  <tbody>\n",
       "    <tr>\n",
       "      <th>0</th>\n",
       "      <td>cock  suck before you piss around on my work</td>\n",
       "      <td>1</td>\n",
       "    </tr>\n",
       "  </tbody>\n",
       "</table>\n",
       "</div>"
      ],
      "text/plain": [
       "                                       headline  label\n",
       "0  cock  suck before you piss around on my work      1"
      ]
     },
     "execution_count": 60,
     "metadata": {},
     "output_type": "execute_result"
    }
   ],
   "source": [
    "df.head(1)"
   ]
  },
  {
   "cell_type": "code",
   "execution_count": 61,
   "id": "4b12c5ec",
   "metadata": {},
   "outputs": [
    {
     "name": "stderr",
     "output_type": "stream",
     "text": [
      "<>:17: SyntaxWarning: invalid escape sequence '\\w'\n",
      "<>:17: SyntaxWarning: invalid escape sequence '\\w'\n",
      "C:\\Users\\yasin\\AppData\\Local\\Temp\\ipykernel_40000\\4170477131.py:17: SyntaxWarning: invalid escape sequence '\\w'\n",
      "  combined_df['tidy_tweet'] = np.vectorize(remove_pattern)(combined_df['headline'], \"@[\\w]*\")\n"
     ]
    }
   ],
   "source": [
    "# Define the remove_pattern function\n",
    "def remove_pattern(input_txt, pattern):\n",
    "    import re\n",
    "    r = re.findall(pattern, input_txt)\n",
    "    for i in r:\n",
    "        input_txt = re.sub(i, '', input_txt)\n",
    "    return input_txt\n",
    "\n",
    "# Modify datasetCleaning function\n",
    "def datasetCleaning(df):\n",
    "    combined_df = pd.concat([df, df], ignore_index=True)\n",
    "\n",
    "    # Ensure 'headline' column contains strings and handle missing values\n",
    "    combined_df['headline'] = combined_df['headline'].astype(str).fillna('')\n",
    "\n",
    "    # Remove @ user using vectorized operation\n",
    "    combined_df['tidy_tweet'] = np.vectorize(remove_pattern)(combined_df['headline'], \"@[\\w]*\")\n",
    "\n",
    "    # Remove extra letters (non-alphabetic characters)\n",
    "    combined_df['tidy_tweet'] = combined_df['tidy_tweet'].str.replace(\"[^a-zA-Z#]\", \" \", regex=True)\n",
    "\n",
    "    # Remove short words (less than 3 characters)\n",
    "    combined_df['tidy_tweet'] = combined_df['tidy_tweet'].apply(lambda x: ' '.join([w for w in x.split() if len(w) > 2]))\n",
    "\n",
    "    return combined_df, df"
   ]
  },
  {
   "cell_type": "code",
   "execution_count": 62,
   "id": "307e72a5",
   "metadata": {},
   "outputs": [],
   "source": [
    "combined_df, df =datasetCleaning(df)"
   ]
  },
  {
   "cell_type": "code",
   "execution_count": 63,
   "id": "7dc1347a",
   "metadata": {},
   "outputs": [
    {
     "data": {
      "text/html": [
       "<div>\n",
       "<style scoped>\n",
       "    .dataframe tbody tr th:only-of-type {\n",
       "        vertical-align: middle;\n",
       "    }\n",
       "\n",
       "    .dataframe tbody tr th {\n",
       "        vertical-align: top;\n",
       "    }\n",
       "\n",
       "    .dataframe thead th {\n",
       "        text-align: right;\n",
       "    }\n",
       "</style>\n",
       "<table border=\"1\" class=\"dataframe\">\n",
       "  <thead>\n",
       "    <tr style=\"text-align: right;\">\n",
       "      <th></th>\n",
       "      <th>headline</th>\n",
       "      <th>label</th>\n",
       "      <th>tidy_tweet</th>\n",
       "    </tr>\n",
       "  </thead>\n",
       "  <tbody>\n",
       "    <tr>\n",
       "      <th>0</th>\n",
       "      <td>cock  suck before you piss around on my work</td>\n",
       "      <td>1</td>\n",
       "      <td>cock suck before you piss around work</td>\n",
       "    </tr>\n",
       "    <tr>\n",
       "      <th>1</th>\n",
       "      <td>you are  gay or antisemmitian archangel white ...</td>\n",
       "      <td>1</td>\n",
       "      <td>you are gay antisemmitian archangel white tige...</td>\n",
       "    </tr>\n",
       "    <tr>\n",
       "      <th>2</th>\n",
       "      <td>fuck your filthy mother in the ass  dry</td>\n",
       "      <td>1</td>\n",
       "      <td>fuck your filthy mother the ass dry</td>\n",
       "    </tr>\n",
       "    <tr>\n",
       "      <th>3</th>\n",
       "      <td>get fuck  ed up  get fuck  ed up got a drink t...</td>\n",
       "      <td>1</td>\n",
       "      <td>get fuck get fuck got drink that you cant put ...</td>\n",
       "    </tr>\n",
       "    <tr>\n",
       "      <th>4</th>\n",
       "      <td>stupid peace of  shit  stop deleting my stuff ...</td>\n",
       "      <td>1</td>\n",
       "      <td>stupid peace shit stop deleting stuff ass hole...</td>\n",
       "    </tr>\n",
       "  </tbody>\n",
       "</table>\n",
       "</div>"
      ],
      "text/plain": [
       "                                            headline  label  \\\n",
       "0       cock  suck before you piss around on my work      1   \n",
       "1  you are  gay or antisemmitian archangel white ...      1   \n",
       "2            fuck your filthy mother in the ass  dry      1   \n",
       "3  get fuck  ed up  get fuck  ed up got a drink t...      1   \n",
       "4  stupid peace of  shit  stop deleting my stuff ...      1   \n",
       "\n",
       "                                          tidy_tweet  \n",
       "0              cock suck before you piss around work  \n",
       "1  you are gay antisemmitian archangel white tige...  \n",
       "2                fuck your filthy mother the ass dry  \n",
       "3  get fuck get fuck got drink that you cant put ...  \n",
       "4  stupid peace shit stop deleting stuff ass hole...  "
      ]
     },
     "execution_count": 63,
     "metadata": {},
     "output_type": "execute_result"
    }
   ],
   "source": [
    "combined_df.head()"
   ]
  },
  {
   "cell_type": "markdown",
   "id": "47e01d67",
   "metadata": {},
   "source": [
    "Dataset Splitting"
   ]
  },
  {
   "cell_type": "code",
   "execution_count": 64,
   "id": "4df9b909",
   "metadata": {},
   "outputs": [],
   "source": [
    "from sklearn.model_selection import train_test_split"
   ]
  },
  {
   "cell_type": "code",
   "execution_count": 65,
   "id": "ced1275e",
   "metadata": {},
   "outputs": [],
   "source": [
    "def performdatasplit(x, y, combined_df, df):\n",
    "    X_train, X_test, y_train, y_test = train_test_split(combined_df['tidy_tweet'], combined_df['label'], test_size = x, random_state = y)\n",
    "    print(f\"Number of rows in the total dataset: {combined_df.shape[0]}\")\n",
    "    print(f\"Number of rows in the train dataset: {X_train.shape[0]}\")\n",
    "    print(f\"Number of rows in the test dataset: {X_test.shape[0]}\")\n",
    "    \n",
    "    files = open(\"stopwords.txt\" , \"r\")\n",
    "    content = files.read()\n",
    "    content_list = content.split(\"\\n\")\n",
    "    files.close()\n",
    "    \n",
    "    tfidfvector = TfidfVectorizer(stop_words=content_list, lowercase=True)\n",
    "    \n",
    "    training_data = tfidfvector.fit_transform(X_train.values.astype('U'))\n",
    "    \n",
    "    testing_data = tfidfvector.transform(X_test.values.astype('U'))\n",
    "    \n",
    "    filename = 'tfidfvectoizer.pkl'\n",
    "    \n",
    "    pickle.dump(tfidfvector.vocabulary_, open(filename, 'wb'))\n",
    "    \n",
    "    return X_train , X_test, y_train, y_test, testing_data, filename, training_data, content_list"
   ]
  },
  {
   "cell_type": "code",
   "execution_count": 66,
   "id": "f2cd26ca",
   "metadata": {},
   "outputs": [
    {
     "name": "stdout",
     "output_type": "stream",
     "text": [
      "Number of rows in the total dataset: 135710\n",
      "Number of rows in the train dataset: 108568\n",
      "Number of rows in the test dataset: 27142\n"
     ]
    },
    {
     "name": "stderr",
     "output_type": "stream",
     "text": [
      "c:\\Users\\yasin\\AppData\\Local\\Programs\\Python\\Python312\\Lib\\site-packages\\sklearn\\feature_extraction\\text.py:406: UserWarning: Your stop_words may be inconsistent with your preprocessing. Tokenizing the stop words generated tokens ['kill', 'ninad'] not in stop_words.\n",
      "  warnings.warn(\n"
     ]
    }
   ],
   "source": [
    "X_train , X_test, y_train, y_test, testing_data, filename, training_data, content_list = performdatasplit(0.2, 42, combined_df, df)"
   ]
  },
  {
   "cell_type": "markdown",
   "id": "a065527d",
   "metadata": {},
   "source": [
    "Apply Machine Learning Algorithm"
   ]
  },
  {
   "cell_type": "code",
   "execution_count": 67,
   "id": "6f964589",
   "metadata": {},
   "outputs": [],
   "source": [
    "import xgboost as xgb\n",
    "from sklearn.naive_bayes import MultinomialNB\n",
    "from sklearn.tree import DecisionTreeClassifier\n",
    "from sklearn.svm import LinearSVC\n",
    "from sklearn.ensemble import AdaBoostClassifier, RandomForestClassifier, BaggingClassifier\n",
    "from sklearn.linear_model import LogisticRegression, SGDClassifier\n",
    "from sklearn.neighbors import KNeighborsClassifier"
   ]
  },
  {
   "cell_type": "code",
   "execution_count": 68,
   "id": "fed5a4f6",
   "metadata": {},
   "outputs": [],
   "source": [
    "def pipeline(X_train, y_train, X_test, y_test):\n",
    "    MODELS = [LinearSVC(), LogisticRegression(), MultinomialNB(), DecisionTreeClassifier(),\n",
    "              AdaBoostClassifier(), BaggingClassifier(), SGDClassifier()]\n",
    "    \n",
    "    size = len(y_train)\n",
    "    \n",
    "    results = {}\n",
    "    \n",
    "    final_result = []\n",
    "    \n",
    "    for model in MODELS:\n",
    "        results['Algorithm'] = model.__class__.__name__\n",
    "        \n",
    "        start = time()\n",
    "        print(f\"Training Time : {model.__class__.__name__}\")\n",
    "        model.fit(X_train, y_train)\n",
    "        end = time()\n",
    "        \n",
    "        filename = model.__class__.__name__+\".pkl\"\n",
    "        pickle.dump(model, open(filename, \"wb\"))\n",
    "        \n",
    "        results['Training Time'] = end - start\n",
    "        \n",
    "        start = time()\n",
    "        prediction_test = model.predict(X_test)\n",
    "        prediction_train = model.predict(X_train)\n",
    "        end = time()\n",
    "        \n",
    "        results['Prediction Time'] = end - start\n",
    "        \n",
    "        results['Accuracy : Test'] = accuracy_score(y_test, prediction_test)\n",
    "        results['Accuracy : Train'] = accuracy_score(y_train, prediction_train)\n",
    "        \n",
    "        results['F1 Score : Test'] = f1_score(y_test, prediction_test)\n",
    "        results['F1 Score : Train'] = f1_score(y_train, prediction_train)\n",
    "        \n",
    "        results['Precision : Test'] = precision_score(y_test, prediction_test)\n",
    "        results['Precision : Train'] = precision_score(y_train, prediction_train)\n",
    "        \n",
    "        results['Recall : Test'] = recall_score(y_test, prediction_test)\n",
    "        results['Recall : Train'] = recall_score(y_train, prediction_train)\n",
    "        \n",
    "        print(f\"Training {model.__class__.__name__} finished in {results['Training Time']} sec\")\n",
    "        \n",
    "        final_result.append(results.copy())\n",
    "    return final_result\n",
    "        "
   ]
  },
  {
   "cell_type": "code",
   "execution_count": 69,
   "id": "46ba8522",
   "metadata": {},
   "outputs": [
    {
     "name": "stdout",
     "output_type": "stream",
     "text": [
      "Training Time : LinearSVC\n",
      "Training LinearSVC finished in 2.287304162979126 sec\n",
      "Training Time : LogisticRegression\n",
      "Training LogisticRegression finished in 3.292527437210083 sec\n",
      "Training Time : MultinomialNB\n",
      "Training MultinomialNB finished in 0.01624274253845215 sec\n",
      "Training Time : DecisionTreeClassifier\n",
      "Training DecisionTreeClassifier finished in 27.776559114456177 sec\n",
      "Training Time : AdaBoostClassifier\n"
     ]
    },
    {
     "name": "stderr",
     "output_type": "stream",
     "text": [
      "c:\\Users\\yasin\\AppData\\Local\\Programs\\Python\\Python312\\Lib\\site-packages\\sklearn\\ensemble\\_weight_boosting.py:527: FutureWarning: The SAMME.R algorithm (the default) is deprecated and will be removed in 1.6. Use the SAMME algorithm to circumvent this warning.\n",
      "  warnings.warn(\n"
     ]
    },
    {
     "name": "stdout",
     "output_type": "stream",
     "text": [
      "Training AdaBoostClassifier finished in 9.418136835098267 sec\n",
      "Training Time : BaggingClassifier\n",
      "Training BaggingClassifier finished in 307.23749923706055 sec\n",
      "Training Time : SGDClassifier\n",
      "Training SGDClassifier finished in 0.14510846138000488 sec\n"
     ]
    }
   ],
   "source": [
    "final_result = pipeline(training_data, y_train, testing_data, y_test)"
   ]
  },
  {
   "cell_type": "code",
   "execution_count": 70,
   "id": "2131d7df",
   "metadata": {},
   "outputs": [],
   "source": [
    "def performfinalresult(final_results):\n",
    "    results = pd.DataFrame(final_results)\n",
    "    results.reindex(columns = ['Algorithm', 'Accuracy : Test', 'Precision : Test', 'Recall : Test', 'F1 Score : Test', 'Prediction Time',\n",
    "                          'Accuracy : Train', 'Precision : Train', 'Recall : Train', 'F1 Score : Train', 'Training Time'])\n",
    "    results.sort_values(by = 'F1 Score : Test', inplace=True, ascending=False)\n",
    "    \n",
    "    return results"
   ]
  },
  {
   "cell_type": "code",
   "execution_count": 71,
   "id": "5bf8d085",
   "metadata": {},
   "outputs": [
    {
     "data": {
      "text/html": [
       "<div>\n",
       "<style scoped>\n",
       "    .dataframe tbody tr th:only-of-type {\n",
       "        vertical-align: middle;\n",
       "    }\n",
       "\n",
       "    .dataframe tbody tr th {\n",
       "        vertical-align: top;\n",
       "    }\n",
       "\n",
       "    .dataframe thead th {\n",
       "        text-align: right;\n",
       "    }\n",
       "</style>\n",
       "<table border=\"1\" class=\"dataframe\">\n",
       "  <thead>\n",
       "    <tr style=\"text-align: right;\">\n",
       "      <th></th>\n",
       "      <th>Algorithm</th>\n",
       "      <th>Training Time</th>\n",
       "      <th>Prediction Time</th>\n",
       "      <th>Accuracy : Test</th>\n",
       "      <th>Accuracy : Train</th>\n",
       "      <th>F1 Score : Test</th>\n",
       "      <th>F1 Score : Train</th>\n",
       "      <th>Precision : Test</th>\n",
       "      <th>Precision : Train</th>\n",
       "      <th>Recall : Test</th>\n",
       "      <th>Recall : Train</th>\n",
       "    </tr>\n",
       "  </thead>\n",
       "  <tbody>\n",
       "    <tr>\n",
       "      <th>0</th>\n",
       "      <td>DecisionTreeClassifier</td>\n",
       "      <td>27.776559</td>\n",
       "      <td>0.175579</td>\n",
       "      <td>0.933940</td>\n",
       "      <td>0.976798</td>\n",
       "      <td>0.956431</td>\n",
       "      <td>0.984601</td>\n",
       "      <td>0.955897</td>\n",
       "      <td>0.990188</td>\n",
       "      <td>0.956966</td>\n",
       "      <td>0.979076</td>\n",
       "    </tr>\n",
       "    <tr>\n",
       "      <th>1</th>\n",
       "      <td>BaggingClassifier</td>\n",
       "      <td>307.237499</td>\n",
       "      <td>1.751271</td>\n",
       "      <td>0.932761</td>\n",
       "      <td>0.974587</td>\n",
       "      <td>0.955763</td>\n",
       "      <td>0.983273</td>\n",
       "      <td>0.952876</td>\n",
       "      <td>0.980639</td>\n",
       "      <td>0.958668</td>\n",
       "      <td>0.985921</td>\n",
       "    </tr>\n",
       "    <tr>\n",
       "      <th>2</th>\n",
       "      <td>LinearSVC</td>\n",
       "      <td>2.287304</td>\n",
       "      <td>0.000000</td>\n",
       "      <td>0.911097</td>\n",
       "      <td>0.952666</td>\n",
       "      <td>0.941705</td>\n",
       "      <td>0.968911</td>\n",
       "      <td>0.935760</td>\n",
       "      <td>0.964262</td>\n",
       "      <td>0.947727</td>\n",
       "      <td>0.973605</td>\n",
       "    </tr>\n",
       "    <tr>\n",
       "      <th>3</th>\n",
       "      <td>LogisticRegression</td>\n",
       "      <td>3.292527</td>\n",
       "      <td>0.015722</td>\n",
       "      <td>0.889175</td>\n",
       "      <td>0.921303</td>\n",
       "      <td>0.928822</td>\n",
       "      <td>0.949285</td>\n",
       "      <td>0.904632</td>\n",
       "      <td>0.927431</td>\n",
       "      <td>0.954340</td>\n",
       "      <td>0.972195</td>\n",
       "    </tr>\n",
       "    <tr>\n",
       "      <th>4</th>\n",
       "      <td>MultinomialNB</td>\n",
       "      <td>0.016243</td>\n",
       "      <td>0.009399</td>\n",
       "      <td>0.857564</td>\n",
       "      <td>0.879873</td>\n",
       "      <td>0.913006</td>\n",
       "      <td>0.925938</td>\n",
       "      <td>0.849717</td>\n",
       "      <td>0.868741</td>\n",
       "      <td>0.986482</td>\n",
       "      <td>0.991198</td>\n",
       "    </tr>\n",
       "    <tr>\n",
       "      <th>5</th>\n",
       "      <td>SGDClassifier</td>\n",
       "      <td>0.145108</td>\n",
       "      <td>0.000000</td>\n",
       "      <td>0.857122</td>\n",
       "      <td>0.869667</td>\n",
       "      <td>0.911602</td>\n",
       "      <td>0.919135</td>\n",
       "      <td>0.858013</td>\n",
       "      <td>0.867197</td>\n",
       "      <td>0.972332</td>\n",
       "      <td>0.977690</td>\n",
       "    </tr>\n",
       "    <tr>\n",
       "      <th>6</th>\n",
       "      <td>AdaBoostClassifier</td>\n",
       "      <td>9.418137</td>\n",
       "      <td>1.578025</td>\n",
       "      <td>0.813536</td>\n",
       "      <td>0.816272</td>\n",
       "      <td>0.887556</td>\n",
       "      <td>0.889124</td>\n",
       "      <td>0.817133</td>\n",
       "      <td>0.819010</td>\n",
       "      <td>0.971262</td>\n",
       "      <td>0.972365</td>\n",
       "    </tr>\n",
       "  </tbody>\n",
       "</table>\n",
       "</div>"
      ],
      "text/plain": [
       "                Algorithm  Training Time  Prediction Time  Accuracy : Test  \\\n",
       "0  DecisionTreeClassifier      27.776559         0.175579         0.933940   \n",
       "1       BaggingClassifier     307.237499         1.751271         0.932761   \n",
       "2               LinearSVC       2.287304         0.000000         0.911097   \n",
       "3      LogisticRegression       3.292527         0.015722         0.889175   \n",
       "4           MultinomialNB       0.016243         0.009399         0.857564   \n",
       "5           SGDClassifier       0.145108         0.000000         0.857122   \n",
       "6      AdaBoostClassifier       9.418137         1.578025         0.813536   \n",
       "\n",
       "   Accuracy : Train  F1 Score : Test  F1 Score : Train  Precision : Test  \\\n",
       "0          0.976798         0.956431          0.984601          0.955897   \n",
       "1          0.974587         0.955763          0.983273          0.952876   \n",
       "2          0.952666         0.941705          0.968911          0.935760   \n",
       "3          0.921303         0.928822          0.949285          0.904632   \n",
       "4          0.879873         0.913006          0.925938          0.849717   \n",
       "5          0.869667         0.911602          0.919135          0.858013   \n",
       "6          0.816272         0.887556          0.889124          0.817133   \n",
       "\n",
       "   Precision : Train  Recall : Test  Recall : Train  \n",
       "0           0.990188       0.956966        0.979076  \n",
       "1           0.980639       0.958668        0.985921  \n",
       "2           0.964262       0.947727        0.973605  \n",
       "3           0.927431       0.954340        0.972195  \n",
       "4           0.868741       0.986482        0.991198  \n",
       "5           0.867197       0.972332        0.977690  \n",
       "6           0.819010       0.971262        0.972365  "
      ]
     },
     "execution_count": 71,
     "metadata": {},
     "output_type": "execute_result"
    }
   ],
   "source": [
    "results = performfinalresult(final_result)\n",
    "results.reset_index(drop = True)"
   ]
  },
  {
   "cell_type": "code",
   "execution_count": 72,
   "id": "75417d6a",
   "metadata": {},
   "outputs": [
    {
     "data": {
      "text/html": [
       "<div>\n",
       "<style scoped>\n",
       "    .dataframe tbody tr th:only-of-type {\n",
       "        vertical-align: middle;\n",
       "    }\n",
       "\n",
       "    .dataframe tbody tr th {\n",
       "        vertical-align: top;\n",
       "    }\n",
       "\n",
       "    .dataframe thead th {\n",
       "        text-align: right;\n",
       "    }\n",
       "</style>\n",
       "<table border=\"1\" class=\"dataframe\">\n",
       "  <thead>\n",
       "    <tr style=\"text-align: right;\">\n",
       "      <th></th>\n",
       "      <th>Training Time</th>\n",
       "      <th>Prediction Time</th>\n",
       "      <th>Accuracy : Test</th>\n",
       "      <th>Accuracy : Train</th>\n",
       "      <th>F1 Score : Test</th>\n",
       "      <th>F1 Score : Train</th>\n",
       "      <th>Precision : Test</th>\n",
       "      <th>Precision : Train</th>\n",
       "      <th>Recall : Test</th>\n",
       "      <th>Recall : Train</th>\n",
       "    </tr>\n",
       "  </thead>\n",
       "  <tbody>\n",
       "    <tr>\n",
       "      <th>min</th>\n",
       "      <td>0.016243</td>\n",
       "      <td>0.000000</td>\n",
       "      <td>0.813536</td>\n",
       "      <td>0.816272</td>\n",
       "      <td>0.887556</td>\n",
       "      <td>0.889124</td>\n",
       "      <td>0.817133</td>\n",
       "      <td>0.819010</td>\n",
       "      <td>0.947727</td>\n",
       "      <td>0.972195</td>\n",
       "    </tr>\n",
       "    <tr>\n",
       "      <th>max</th>\n",
       "      <td>307.237499</td>\n",
       "      <td>1.751271</td>\n",
       "      <td>0.933940</td>\n",
       "      <td>0.976798</td>\n",
       "      <td>0.956431</td>\n",
       "      <td>0.984601</td>\n",
       "      <td>0.955897</td>\n",
       "      <td>0.990188</td>\n",
       "      <td>0.986482</td>\n",
       "      <td>0.991198</td>\n",
       "    </tr>\n",
       "  </tbody>\n",
       "</table>\n",
       "</div>"
      ],
      "text/plain": [
       "     Training Time  Prediction Time  Accuracy : Test  Accuracy : Train  \\\n",
       "min       0.016243         0.000000         0.813536          0.816272   \n",
       "max     307.237499         1.751271         0.933940          0.976798   \n",
       "\n",
       "     F1 Score : Test  F1 Score : Train  Precision : Test  Precision : Train  \\\n",
       "min         0.887556          0.889124          0.817133           0.819010   \n",
       "max         0.956431          0.984601          0.955897           0.990188   \n",
       "\n",
       "     Recall : Test  Recall : Train  \n",
       "min       0.947727        0.972195  \n",
       "max       0.986482        0.991198  "
      ]
     },
     "execution_count": 72,
     "metadata": {},
     "output_type": "execute_result"
    }
   ],
   "source": [
    "results.describe().loc[['min', 'max'], :]"
   ]
  },
  {
   "cell_type": "markdown",
   "id": "e70a5edd",
   "metadata": {},
   "source": [
    "Summary IN Graph"
   ]
  },
  {
   "cell_type": "code",
   "execution_count": 73,
   "id": "21b31f2f",
   "metadata": {},
   "outputs": [
    {
     "data": {
      "image/png": "[encoded data removed]",
      "text/plain": [
       "<Figure size 1500x600 with 1 Axes>"
      ]
     },
     "metadata": {},
     "output_type": "display_data"
    }
   ],
   "source": [
    "best_acc = results[results['Accuracy : Test'] == results['Accuracy : Test'].max()]\n",
    "best_f1 = results[results['F1 Score : Test'] == results['F1 Score : Test'].max()]\n",
    "best_precision = results[results['Precision : Test'] == results['Precision : Test'].max()]\n",
    "best_recall = results[results['Recall : Test'] == results['Recall : Test'].max()]\n",
    "\n",
    "sns.set_style('darkgrid')\n",
    "plt.figure(figsize = (15, 6))\n",
    "\n",
    "barWidth = 0.17\n",
    " \n",
    "# set height of bar\n",
    "bars1 = results['Accuracy : Test']\n",
    "bars2 = results['F1 Score : Test']\n",
    "\n",
    "# Set position of bar on X axis\n",
    "r1 = np.arange(len(bars1))\n",
    "r2 = [x + barWidth for x in r1]\n",
    "\n",
    "# Make the plot\n",
    "pal = sns.color_palette()\n",
    "plt.bar(r1, bars1, color= pal[0], width=barWidth, edgecolor='white', label='Test Accuracy')\n",
    "plt.bar(r2, bars2, color= pal[1], width=barWidth, edgecolor='white', label='Test F1 Score')\n",
    "\n",
    "# Add xticks on the middle of the group bars\n",
    "plt.xlabel('Algorithm', fontweight='bold', fontsize = 13)\n",
    "plt.ylabel('Score', fontweight = 'bold', fontsize = 13)\n",
    "plt.xticks([r + barWidth for r in range(len(bars1))], results['Algorithm'], rotation = 15, fontsize = 11)\n",
    " \n",
    "# Create legend & Show graphic\n",
    "plt.legend(fontsize = 13)\n",
    "\n",
    "textstr = '\\n'.join(['Best Accuracy: {:.3f} - {}'.format(best_acc['Accuracy : Test'].values[0], best_acc['Algorithm'].values[0]), \n",
    "                     'Best F1 Score: {:.3f} - {}'.format(best_f1['F1 Score : Test'].values[0], best_f1['Algorithm'].values[0])])\n",
    "props = dict(boxstyle='round', facecolor='lightgrey', alpha=0.5)\n",
    "\n",
    "plt.title('Classification Summary of Algorithms', fontweight = 'bold', fontsize = 17);"
   ]
  },
  {
   "cell_type": "markdown",
   "id": "8dd5e51e",
   "metadata": {},
   "source": [
    "Training and Prediction time of Algorithm"
   ]
  },
  {
   "cell_type": "code",
   "execution_count": 74,
   "id": "b73123b2",
   "metadata": {},
   "outputs": [
    {
     "data": {
      "text/plain": [
       "Text(0.5, 1.0, 'Training and Prediction time of Algorithms')"
      ]
     },
     "execution_count": 74,
     "metadata": {},
     "output_type": "execute_result"
    },
    {
     "data": {
      "image/png": "[encoded data removed]",
      "text/plain": [
       "<Figure size 1200x700 with 1 Axes>"
      ]
     },
     "metadata": {},
     "output_type": "display_data"
    }
   ],
   "source": [
    "\n",
    "best_train_time = results[results['Training Time'] == results['Training Time'].min()]\n",
    "worst_train_time = results[results['Training Time'] == results['Training Time'].max()]\n",
    "best_prediction_time = results[results['Prediction Time'] == results['Prediction Time'].min()]\n",
    "worst_prediction_time = results[results['Prediction Time'] == results['Prediction Time'].max()]\n",
    "\n",
    "plt.figure(figsize = (12, 7))\n",
    "\n",
    "barWidth = 0.17\n",
    " \n",
    "# set height of bar\n",
    "bars1 = results['Training Time']\n",
    "bars2 = results['Prediction Time']\n",
    " \n",
    "# Set position of bar on X axis\n",
    "r1 = np.arange(len(bars1))\n",
    "r2 = [x + barWidth for x in r1]\n",
    " \n",
    "# Make the plot\n",
    "plt.bar(r1, bars1, color= pal[0], width=barWidth, edgecolor='white', label='Training Time')\n",
    "plt.bar(r2, bars2, color= pal[1], width=barWidth, edgecolor='white', label='Prediction Time')\n",
    " \n",
    "# Add xticks on the middle of the group bars\n",
    "plt.xlabel('Algorithm', fontweight='bold', fontsize = 13)\n",
    "plt.ylabel('Time (seconds)', fontweight = 'bold', fontsize = 13)\n",
    "plt.xticks([r + barWidth for r in range(len(bars1))], results['Algorithm'], rotation = 15, fontsize = 11)\n",
    "\n",
    "\n",
    "textstr = '\\n'.join(('Best Training Time: {:.3f} - {}'.format(best_train_time['Training Time'].values[0], best_train_time['Algorithm'].values[0]), \n",
    "                     'Worst Training Time: {:.3f} - {}'.format(worst_train_time['Training Time'].values[0], worst_train_time['Algorithm'].values[0]),\n",
    "                   'Best Prediction Time: {:.3f} - {}'.format(best_prediction_time['Training Time'].values[0], best_prediction_time['Algorithm'].values[0]), \n",
    "                    'Worst Prediction Time: {:.3f} - {}'.format(worst_prediction_time['Training Time'].values[0], worst_prediction_time['Algorithm'].values[0])))\n",
    "props = dict(boxstyle='round', facecolor='lightgrey', alpha=0.5)\n",
    "\n",
    "#place a text box\n",
    "plt.text(3.2, 12, textstr, fontsize=14,  bbox=props) \n",
    "\n",
    "# Create legend & Show graphic\n",
    "plt.legend(fontsize = 13)\n",
    "plt.title('Training and Prediction time of Algorithms', fontweight = 'bold', fontsize = 17)"
   ]
  },
  {
   "cell_type": "code",
   "execution_count": 75,
   "id": "10cf4366",
   "metadata": {},
   "outputs": [
    {
     "data": {
      "text/html": [
       "<div>\n",
       "<style scoped>\n",
       "    .dataframe tbody tr th:only-of-type {\n",
       "        vertical-align: middle;\n",
       "    }\n",
       "\n",
       "    .dataframe tbody tr th {\n",
       "        vertical-align: top;\n",
       "    }\n",
       "\n",
       "    .dataframe thead th {\n",
       "        text-align: right;\n",
       "    }\n",
       "</style>\n",
       "<table border=\"1\" class=\"dataframe\">\n",
       "  <thead>\n",
       "    <tr style=\"text-align: right;\">\n",
       "      <th></th>\n",
       "      <th>headline</th>\n",
       "      <th>label</th>\n",
       "    </tr>\n",
       "  </thead>\n",
       "  <tbody>\n",
       "    <tr>\n",
       "      <th>0</th>\n",
       "      <td>cock  suck before you piss around on my work</td>\n",
       "      <td>1</td>\n",
       "    </tr>\n",
       "    <tr>\n",
       "      <th>1</th>\n",
       "      <td>you are  gay or antisemmitian archangel white ...</td>\n",
       "      <td>1</td>\n",
       "    </tr>\n",
       "    <tr>\n",
       "      <th>2</th>\n",
       "      <td>fuck your filthy mother in the ass  dry</td>\n",
       "      <td>1</td>\n",
       "    </tr>\n",
       "    <tr>\n",
       "      <th>3</th>\n",
       "      <td>get fuck  ed up  get fuck  ed up got a drink t...</td>\n",
       "      <td>1</td>\n",
       "    </tr>\n",
       "    <tr>\n",
       "      <th>4</th>\n",
       "      <td>stupid peace of  shit  stop deleting my stuff ...</td>\n",
       "      <td>1</td>\n",
       "    </tr>\n",
       "  </tbody>\n",
       "</table>\n",
       "</div>"
      ],
      "text/plain": [
       "                                            headline  label\n",
       "0       cock  suck before you piss around on my work      1\n",
       "1  you are  gay or antisemmitian archangel white ...      1\n",
       "2            fuck your filthy mother in the ass  dry      1\n",
       "3  get fuck  ed up  get fuck  ed up got a drink t...      1\n",
       "4  stupid peace of  shit  stop deleting my stuff ...      1"
      ]
     },
     "execution_count": 75,
     "metadata": {},
     "output_type": "execute_result"
    }
   ],
   "source": [
    "df.head()"
   ]
  },
  {
   "cell_type": "code",
   "execution_count": 76,
   "id": "81a7e415",
   "metadata": {},
   "outputs": [
    {
     "name": "stdout",
     "output_type": "stream",
     "text": [
      "[0]\n",
      "non-bulling\n"
     ]
    },
    {
     "name": "stderr",
     "output_type": "stream",
     "text": [
      "c:\\Users\\yasin\\AppData\\Local\\Programs\\Python\\Python312\\Lib\\site-packages\\sklearn\\feature_extraction\\text.py:406: UserWarning: Your stop_words may be inconsistent with your preprocessing. Tokenizing the stop words generated tokens ['kill', 'ninad'] not in stop_words.\n",
      "  warnings.warn(\n"
     ]
    }
   ],
   "source": [
    "data = [\"Hello\"]\n",
    "\n",
    "tfidf_vector = TfidfVectorizer(stop_words=content_list, lowercase=True, vocabulary=pickle.load(open(\"tfidfvectoizer.pkl\", \"rb\")))\n",
    "preprocessed_data = tfidf_vector.fit_transform(data)\n",
    "\n",
    "trained_model = pickle.load(open('LinearSVC.pkl', 'rb'))\n",
    "print(trained_model.predict(preprocessed_data))\n",
    "\n",
    "if(trained_model.predict(preprocessed_data)==1):\n",
    "    print(\"bulling\")\n",
    "else:\n",
    "    print(\"non-bulling\")"
   ]
  },
  {
   "cell_type": "markdown",
   "id": "ea76c12d",
   "metadata": {},
   "source": [
    "Fine Tuining"
   ]
  },
  {
   "cell_type": "code",
   "execution_count": 77,
   "id": "f329da99",
   "metadata": {},
   "outputs": [],
   "source": [
    "from sklearn.model_selection import GridSearchCV\n",
    "\n",
    "def tuining(clf, param_dict, X_train, y_train, X_test, y_test):\n",
    "    scorer = make_scorer(f1_score)\n",
    "    \n",
    "    grid_obj = GridSearchCV(estimator=clf, param_grid=param_dict, scoring=scorer, cv=5)\n",
    "    \n",
    "    grid_fit = grid_obj.fit(X_train, y_train)\n",
    "    \n",
    "    best_clf = grid_fit.best_estimator_\n",
    "    \n",
    "    prediction = (clf.fit(X_train, y_train)).predict(X_test)\n",
    "    \n",
    "    best_prediction = best_clf.predict(X_test)\n",
    "    \n",
    "    print(clf.__class__.__name__)\n",
    "    print(f\"Best Parameter:  {grid_fit.best_params_}\")\n",
    "    \n",
    "    print(f\"Accuracy:  {accuracy_score(y_test, best_prediction)}\")\n",
    "\n",
    "    print(f\"F1 Score :  {f1_score(y_test, best_prediction)}\")\n",
    "    \n",
    "    print(f\"Precision :  {precision_score(y_test, best_prediction)}\")\n",
    "    \n",
    "    print(f\"Recall:  {recall_score(y_test, best_prediction)}\")"
   ]
  },
  {
   "cell_type": "code",
   "execution_count": 78,
   "id": "b1e840dd",
   "metadata": {},
   "outputs": [
    {
     "name": "stdout",
     "output_type": "stream",
     "text": [
      "LinearSVC\n",
      "Best Parameter:  {'C': 1.2}\n",
      "Accuracy:  0.9121288040674969\n",
      "F1 Score :  0.9423035053342043\n",
      "Precision :  0.9376083188908145\n",
      "Recall:  0.9470459518599562\n"
     ]
    }
   ],
   "source": [
    "param_grid = {\n",
    "    'C': [0.25, 0.5, 0.75, 1, 1.2]\n",
    "}\n",
    "\n",
    "clf_model = LinearSVC()\n",
    "\n",
    "tuining(clf_model, param_grid, training_data, y_train, testing_data, y_test)"
   ]
  },
  {
   "cell_type": "code",
   "execution_count": 79,
   "id": "a3d26638",
   "metadata": {},
   "outputs": [],
   "source": [
    "pickle.dump(clf_model, open(\"LinearSVCTuned.pkl\", \"wb\"))"
   ]
  },
  {
   "cell_type": "code",
   "execution_count": null,
   "id": "6bf71491",
   "metadata": {},
   "outputs": [],
   "source": []
  },
  {
   "cell_type": "code",
   "execution_count": null,
   "id": "e2f1f1f5",
   "metadata": {},
   "outputs": [],
   "source": []
  }
 ],
 "metadata": {
  "kernelspec": {
   "display_name": "Python 3",
   "language": "python",
   "name": "python3"
  },
  "language_info": {
   "codemirror_mode": {
    "name": "ipython",
    "version": 3
   },
   "file_extension": ".py",
   "mimetype": "text/x-python",
   "name": "python",
   "nbconvert_exporter": "python",
   "pygments_lexer": "ipython3",
   "version": "3.12.6"
  }
 },
 "nbformat": 4,
 "nbformat_minor": 5
}
